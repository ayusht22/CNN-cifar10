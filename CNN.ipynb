{
 "cells": [
  {
   "cell_type": "code",
   "execution_count": 1,
   "id": "8d3ec6f5",
   "metadata": {
    "_cell_guid": "b1076dfc-b9ad-4769-8c92-a6c4dae69d19",
    "_uuid": "8f2839f25d086af736a60e9eeb907d3b93b6e0e5",
    "execution": {
     "iopub.execute_input": "2022-03-30T15:59:50.295335Z",
     "iopub.status.busy": "2022-03-30T15:59:50.293793Z",
     "iopub.status.idle": "2022-03-30T15:59:50.315565Z",
     "shell.execute_reply": "2022-03-30T15:59:50.316181Z",
     "shell.execute_reply.started": "2022-03-30T15:54:59.620730Z"
    },
    "papermill": {
     "duration": 0.078894,
     "end_time": "2022-03-30T15:59:50.316480",
     "exception": false,
     "start_time": "2022-03-30T15:59:50.237586",
     "status": "completed"
    },
    "tags": []
   },
   "outputs": [],
   "source": [
    "# This Python 3 environment comes with many helpful analytics libraries installed\n",
    "# It is defined by the kaggle/python Docker image: https://github.com/kaggle/docker-python\n",
    "# For example, here's several helpful packages to load\n",
    "\n",
    "import numpy as np # linear algebra\n",
    "import pandas as pd # data processing, CSV file I/O (e.g. pd.read_csv)\n",
    "\n",
    "# Input data files are available in the read-only \"../input/\" directory\n",
    "# For example, running this (by clicking run or pressing Shift+Enter) will list all files under the input directory\n",
    "\n",
    "import os\n",
    "for dirname, _, filenames in os.walk('/kaggle/input'):\n",
    "    for filename in filenames:\n",
    "        print(os.path.join(dirname, filename))\n",
    "\n",
    "# You can write up to 20GB to the current directory (/kaggle/working/) that gets preserved as output when you create a version using \"Save & Run All\" \n",
    "# You can also write temporary files to /kaggle/temp/, but they won't be saved outside of the current session"
   ]
  },
  {
   "cell_type": "code",
   "execution_count": 2,
   "id": "80f5bfe0",
   "metadata": {
    "execution": {
     "iopub.execute_input": "2022-03-30T15:59:50.397647Z",
     "iopub.status.busy": "2022-03-30T15:59:50.395968Z",
     "iopub.status.idle": "2022-03-30T15:59:50.398446Z",
     "shell.execute_reply": "2022-03-30T15:59:50.399082Z",
     "shell.execute_reply.started": "2022-03-30T15:54:59.646897Z"
    },
    "papermill": {
     "duration": 0.049714,
     "end_time": "2022-03-30T15:59:50.399259",
     "exception": false,
     "start_time": "2022-03-30T15:59:50.349545",
     "status": "completed"
    },
    "tags": []
   },
   "outputs": [],
   "source": [
    "import numpy as np \n",
    "import pandas as pd"
   ]
  },
  {
   "cell_type": "code",
   "execution_count": 3,
   "id": "70b95fd5",
   "metadata": {
    "execution": {
     "iopub.execute_input": "2022-03-30T15:59:50.457002Z",
     "iopub.status.busy": "2022-03-30T15:59:50.456027Z",
     "iopub.status.idle": "2022-03-30T15:59:52.730276Z",
     "shell.execute_reply": "2022-03-30T15:59:52.730704Z",
     "shell.execute_reply.started": "2022-03-30T15:54:59.669612Z"
    },
    "papermill": {
     "duration": 2.303388,
     "end_time": "2022-03-30T15:59:52.730866",
     "exception": false,
     "start_time": "2022-03-30T15:59:50.427478",
     "status": "completed"
    },
    "tags": []
   },
   "outputs": [],
   "source": [
    "import torch\n",
    "import torch.nn.functional as F\n",
    "from torchvision import datasets,transforms\n",
    "from torch import nn\n",
    "import matplotlib.pyplot as plt\n",
    "import numpy as np\n",
    "import seaborn as sns\n",
    "from tqdm import tqdm\n",
    "from torchvision.datasets import CIFAR10\n",
    "from torchvision.transforms import ToTensor"
   ]
  },
  {
   "cell_type": "code",
   "execution_count": 4,
   "id": "8d9d8c15",
   "metadata": {
    "execution": {
     "iopub.execute_input": "2022-03-30T15:59:52.807137Z",
     "iopub.status.busy": "2022-03-30T15:59:52.806449Z",
     "iopub.status.idle": "2022-03-30T15:59:52.809767Z",
     "shell.execute_reply": "2022-03-30T15:59:52.809212Z",
     "shell.execute_reply.started": "2022-03-30T15:55:00.518274Z"
    },
    "papermill": {
     "duration": 0.064693,
     "end_time": "2022-03-30T15:59:52.809910",
     "exception": false,
     "start_time": "2022-03-30T15:59:52.745217",
     "status": "completed"
    },
    "tags": []
   },
   "outputs": [],
   "source": [
    "device = 'cuda' if torch.cuda.is_available() else 'cpu'"
   ]
  },
  {
   "cell_type": "code",
   "execution_count": 5,
   "id": "16661268",
   "metadata": {
    "execution": {
     "iopub.execute_input": "2022-03-30T15:59:52.845093Z",
     "iopub.status.busy": "2022-03-30T15:59:52.844318Z",
     "iopub.status.idle": "2022-03-30T15:59:58.369400Z",
     "shell.execute_reply": "2022-03-30T15:59:58.368662Z",
     "shell.execute_reply.started": "2022-03-30T15:55:00.547195Z"
    },
    "papermill": {
     "duration": 5.545424,
     "end_time": "2022-03-30T15:59:58.369555",
     "exception": false,
     "start_time": "2022-03-30T15:59:52.824131",
     "status": "completed"
    },
    "tags": []
   },
   "outputs": [
    {
     "name": "stdout",
     "output_type": "stream",
     "text": [
      "Downloading https://www.cs.toronto.edu/~kriz/cifar-10-python.tar.gz to data/cifar-10-python.tar.gz\n"
     ]
    },
    {
     "data": {
      "application/vnd.jupyter.widget-view+json": {
       "model_id": "5bede1ace95e43e793210b954698d4fb",
       "version_major": 2,
       "version_minor": 0
      },
      "text/plain": [
       "  0%|          | 0/170498071 [00:00<?, ?it/s]"
      ]
     },
     "metadata": {},
     "output_type": "display_data"
    },
    {
     "name": "stdout",
     "output_type": "stream",
     "text": [
      "Extracting data/cifar-10-python.tar.gz to data/\n"
     ]
    }
   ],
   "source": [
    "dataset = CIFAR10(root='data/', download=True, transform=ToTensor())\n",
    "test_dataset = CIFAR10(root='data/', train=False, transform=ToTensor())"
   ]
  },
  {
   "cell_type": "code",
   "execution_count": 6,
   "id": "049429b2",
   "metadata": {
    "execution": {
     "iopub.execute_input": "2022-03-30T15:59:58.404567Z",
     "iopub.status.busy": "2022-03-30T15:59:58.404028Z",
     "iopub.status.idle": "2022-03-30T15:59:58.407718Z",
     "shell.execute_reply": "2022-03-30T15:59:58.407193Z",
     "shell.execute_reply.started": "2022-03-30T15:55:01.805962Z"
    },
    "papermill": {
     "duration": 0.022431,
     "end_time": "2022-03-30T15:59:58.407832",
     "exception": false,
     "start_time": "2022-03-30T15:59:58.385401",
     "status": "completed"
    },
    "tags": []
   },
   "outputs": [],
   "source": [
    "val_size = 5000\n",
    "train_size = len(dataset) - val_size"
   ]
  },
  {
   "cell_type": "code",
   "execution_count": 7,
   "id": "65123786",
   "metadata": {
    "execution": {
     "iopub.execute_input": "2022-03-30T15:59:58.441646Z",
     "iopub.status.busy": "2022-03-30T15:59:58.440756Z",
     "iopub.status.idle": "2022-03-30T15:59:58.463399Z",
     "shell.execute_reply": "2022-03-30T15:59:58.462997Z",
     "shell.execute_reply.started": "2022-03-30T15:55:01.816153Z"
    },
    "papermill": {
     "duration": 0.040412,
     "end_time": "2022-03-30T15:59:58.463508",
     "exception": false,
     "start_time": "2022-03-30T15:59:58.423096",
     "status": "completed"
    },
    "tags": []
   },
   "outputs": [
    {
     "data": {
      "text/plain": [
       "(45000, 5000)"
      ]
     },
     "execution_count": 7,
     "metadata": {},
     "output_type": "execute_result"
    }
   ],
   "source": [
    "from torch.utils.data import random_split\n",
    "val_size = 5000\n",
    "train_size = len(dataset) - val_size\n",
    "\n",
    "train_ds, val_ds = random_split(dataset, [train_size, val_size])\n",
    "len(train_ds), len(val_ds)"
   ]
  },
  {
   "cell_type": "code",
   "execution_count": 8,
   "id": "c7a3ef71",
   "metadata": {
    "execution": {
     "iopub.execute_input": "2022-03-30T15:59:58.499102Z",
     "iopub.status.busy": "2022-03-30T15:59:58.498451Z",
     "iopub.status.idle": "2022-03-30T15:59:58.503436Z",
     "shell.execute_reply": "2022-03-30T15:59:58.503970Z",
     "shell.execute_reply.started": "2022-03-30T15:55:01.846757Z"
    },
    "papermill": {
     "duration": 0.024939,
     "end_time": "2022-03-30T15:59:58.504087",
     "exception": false,
     "start_time": "2022-03-30T15:59:58.479148",
     "status": "completed"
    },
    "tags": []
   },
   "outputs": [
    {
     "name": "stderr",
     "output_type": "stream",
     "text": [
      "/opt/conda/lib/python3.7/site-packages/torch/utils/data/dataloader.py:481: UserWarning: This DataLoader will create 4 worker processes in total. Our suggested max number of worker in current system is 2, which is smaller than what this DataLoader is going to create. Please be aware that excessive worker creation might get DataLoader running slow or even freeze, lower the worker number to avoid potential slowness/freeze if necessary.\n",
      "  cpuset_checked))\n"
     ]
    }
   ],
   "source": [
    "from torch.utils.data.dataloader import DataLoader\n",
    "\n",
    "batch_size=64\n",
    "train_dl = DataLoader(train_ds, batch_size, shuffle=True, num_workers=4, pin_memory=True)\n",
    "val_dl = DataLoader(val_ds, batch_size, num_workers=4, pin_memory=True)"
   ]
  },
  {
   "cell_type": "code",
   "execution_count": 9,
   "id": "9d822b01",
   "metadata": {
    "execution": {
     "iopub.execute_input": "2022-03-30T15:59:58.547353Z",
     "iopub.status.busy": "2022-03-30T15:59:58.539323Z",
     "iopub.status.idle": "2022-03-30T15:59:58.549686Z",
     "shell.execute_reply": "2022-03-30T15:59:58.549238Z",
     "shell.execute_reply.started": "2022-03-30T15:55:01.864364Z"
    },
    "papermill": {
     "duration": 0.030042,
     "end_time": "2022-03-30T15:59:58.549792",
     "exception": false,
     "start_time": "2022-03-30T15:59:58.519750",
     "status": "completed"
    },
    "tags": []
   },
   "outputs": [],
   "source": [
    "@torch.no_grad()\n",
    "def accuracy(outputs, labels):\n",
    "    _, preds = torch.max(outputs, dim=1)\n",
    "    return torch.tensor(torch.sum(preds == labels).item() / len(preds))\n",
    "\n",
    "class ImageClassification(nn.Module):\n",
    "    def train_step(self, batch):\n",
    "        images, labels = batch \n",
    "        if device == 'cuda':\n",
    "            images, labels = images.to(device), labels.to(device)\n",
    "        out = self(images)                  # Generate predictions\n",
    "        loss = F.cross_entropy(out, labels) # Calculate loss\n",
    "        accu = accuracy(out,labels)\n",
    "        return loss,accu\n",
    "    \n",
    "    def validate(self, batch):\n",
    "        images, labels = batch \n",
    "        if device == 'cuda':\n",
    "            images, labels = images.to(device), labels.to(device)\n",
    "        out = self(images)                    # Generate predictions\n",
    "        loss = F.cross_entropy(out, labels)   # Calculate loss\n",
    "        acc = accuracy(out, labels)           # Calculate accuracy\n",
    "        return {'Loss': loss.detach(), 'Accuracy': acc}\n",
    "        \n",
    "    def validation_epoch_end(self, outputs):\n",
    "        batch_losses = [x['Loss'] for x in outputs]\n",
    "        epoch_loss = torch.stack(batch_losses).mean()   # Combine losses\n",
    "        batch_accs = [x['Accuracy'] for x in outputs]\n",
    "        epoch_acc = torch.stack(batch_accs).mean()      # Combine accuracies\n",
    "        return {'Loss': epoch_loss.item(), 'Accuracy': epoch_acc.item()}\n",
    "    \n",
    "    def epoch_end(self, epoch, result):\n",
    "        print(\"Epoch :\",epoch + 1)\n",
    "        print(f'Train Accuracy:{result[\"train_accuracy\"]*100:.2f}% Validation Accuracy:{result[\"Accuracy\"]*100:.2f}%')\n",
    "        print(f'Train Loss:{result[\"train_loss\"]:.4f} Validation Loss:{result[\"Loss\"]:.4f}')"
   ]
  },
  {
   "cell_type": "code",
   "execution_count": 10,
   "id": "74d8226f",
   "metadata": {
    "execution": {
     "iopub.execute_input": "2022-03-30T15:59:58.591556Z",
     "iopub.status.busy": "2022-03-30T15:59:58.590771Z",
     "iopub.status.idle": "2022-03-30T15:59:58.592782Z",
     "shell.execute_reply": "2022-03-30T15:59:58.593197Z",
     "shell.execute_reply.started": "2022-03-30T15:55:01.887920Z"
    },
    "papermill": {
     "duration": 0.02759,
     "end_time": "2022-03-30T15:59:58.593312",
     "exception": false,
     "start_time": "2022-03-30T15:59:58.565722",
     "status": "completed"
    },
    "tags": []
   },
   "outputs": [],
   "source": [
    "class CnnModel(ImageClassification):\n",
    "    def __init__(self):\n",
    "        super().__init__()\n",
    "        self.network = nn.Sequential(\n",
    "            #alexnet\n",
    "            nn.Conv2d(3, 32, kernel_size=3, padding=1),\n",
    "            nn.ReLU(),\n",
    "            nn.Conv2d(32, 64, kernel_size=3, stride=1, padding=1),\n",
    "            nn.ReLU(),\n",
    "            nn.MaxPool2d(2, 2), # output: 64 x 16 x 16\n",
    "            nn.BatchNorm2d(64),\n",
    "\n",
    "            nn.Conv2d(64, 128, kernel_size=3, stride=1, padding=1),\n",
    "            nn.ReLU(),\n",
    "            nn.Conv2d(128, 128, kernel_size=3, stride=1, padding=1),\n",
    "            nn.ReLU(),\n",
    "            nn.MaxPool2d(2, 2), # output: 128 x 8 x 8\n",
    "            nn.BatchNorm2d(128),\n",
    "\n",
    "            \n",
    "            nn.Conv2d(128, 256, kernel_size=3, stride=1, padding=1),\n",
    "            nn.ReLU(),\n",
    "            nn.Conv2d(256, 256, kernel_size=3, stride=1, padding=1),\n",
    "            nn.ReLU(),\n",
    "            nn.MaxPool2d(2, 2), # output: 256 x 4 x 4\n",
    "            nn.BatchNorm2d(256),\n",
    "            \n",
    "            nn.Flatten(), \n",
    "            nn.Linear(256*4*4, 1024),\n",
    "            nn.ReLU(),\n",
    "            nn.Linear(1024, 512),\n",
    "            nn.ReLU(),\n",
    "            nn.Linear(512, 10))\n",
    "        \n",
    "    def forward(self, xb):\n",
    "        return self.network(xb)"
   ]
  },
  {
   "cell_type": "code",
   "execution_count": 11,
   "id": "d9d37389",
   "metadata": {
    "execution": {
     "iopub.execute_input": "2022-03-30T15:59:58.633749Z",
     "iopub.status.busy": "2022-03-30T15:59:58.632297Z",
     "iopub.status.idle": "2022-03-30T15:59:58.636068Z",
     "shell.execute_reply": "2022-03-30T15:59:58.635646Z",
     "shell.execute_reply.started": "2022-03-30T15:55:01.909258Z"
    },
    "papermill": {
     "duration": 0.027166,
     "end_time": "2022-03-30T15:59:58.636166",
     "exception": false,
     "start_time": "2022-03-30T15:59:58.609000",
     "status": "completed"
    },
    "tags": []
   },
   "outputs": [],
   "source": [
    "@torch.no_grad()\n",
    "def evaluate(model, data_loader):\n",
    "    model.eval()\n",
    "    outputs = [model.validate(batch) for batch in data_loader]\n",
    "    return model.validation_epoch_end(outputs)\n",
    "\n",
    "def fit(model, train_loader, val_loader,epochs=10,learning_rate=0.001):\n",
    "    best_valid = None\n",
    "    history = []\n",
    "    optimizer = torch.optim.Adam(model.parameters(), learning_rate,weight_decay=0.0005)\n",
    "    for epoch in range(epochs):\n",
    "        # Training Phase \n",
    "        model.train()\n",
    "        train_losses = []\n",
    "        train_accuracy = []\n",
    "        for batch in tqdm(train_loader):\n",
    "            loss,accu = model.train_step(batch)\n",
    "            train_losses.append(loss)\n",
    "            train_accuracy.append(accu)\n",
    "            loss.backward()\n",
    "            optimizer.step() \n",
    "            optimizer.zero_grad() # zero the parameter gradients\n",
    "        # Validation phase\n",
    "        result = evaluate(model, val_loader)\n",
    "        result['train_loss'] = torch.stack(train_losses).mean().item()\n",
    "        result['train_accuracy'] = torch.stack(train_accuracy).mean().item()\n",
    "        model.epoch_end(epoch, result)\n",
    "        if(best_valid == None or best_valid<result['Accuracy']):\n",
    "            best_valid=result['Accuracy']\n",
    "        history.append(result)\n",
    "    return history"
   ]
  },
  {
   "cell_type": "code",
   "execution_count": 12,
   "id": "2299d639",
   "metadata": {
    "execution": {
     "iopub.execute_input": "2022-03-30T15:59:58.676050Z",
     "iopub.status.busy": "2022-03-30T15:59:58.669227Z",
     "iopub.status.idle": "2022-03-30T16:00:01.427699Z",
     "shell.execute_reply": "2022-03-30T16:00:01.428085Z",
     "shell.execute_reply.started": "2022-03-30T15:55:01.939634Z"
    },
    "papermill": {
     "duration": 2.776306,
     "end_time": "2022-03-30T16:00:01.428234",
     "exception": false,
     "start_time": "2022-03-30T15:59:58.651928",
     "status": "completed"
    },
    "tags": []
   },
   "outputs": [
    {
     "data": {
      "text/plain": [
       "CnnModel(\n",
       "  (network): Sequential(\n",
       "    (0): Conv2d(3, 32, kernel_size=(3, 3), stride=(1, 1), padding=(1, 1))\n",
       "    (1): ReLU()\n",
       "    (2): Conv2d(32, 64, kernel_size=(3, 3), stride=(1, 1), padding=(1, 1))\n",
       "    (3): ReLU()\n",
       "    (4): MaxPool2d(kernel_size=2, stride=2, padding=0, dilation=1, ceil_mode=False)\n",
       "    (5): BatchNorm2d(64, eps=1e-05, momentum=0.1, affine=True, track_running_stats=True)\n",
       "    (6): Conv2d(64, 128, kernel_size=(3, 3), stride=(1, 1), padding=(1, 1))\n",
       "    (7): ReLU()\n",
       "    (8): Conv2d(128, 128, kernel_size=(3, 3), stride=(1, 1), padding=(1, 1))\n",
       "    (9): ReLU()\n",
       "    (10): MaxPool2d(kernel_size=2, stride=2, padding=0, dilation=1, ceil_mode=False)\n",
       "    (11): BatchNorm2d(128, eps=1e-05, momentum=0.1, affine=True, track_running_stats=True)\n",
       "    (12): Conv2d(128, 256, kernel_size=(3, 3), stride=(1, 1), padding=(1, 1))\n",
       "    (13): ReLU()\n",
       "    (14): Conv2d(256, 256, kernel_size=(3, 3), stride=(1, 1), padding=(1, 1))\n",
       "    (15): ReLU()\n",
       "    (16): MaxPool2d(kernel_size=2, stride=2, padding=0, dilation=1, ceil_mode=False)\n",
       "    (17): BatchNorm2d(256, eps=1e-05, momentum=0.1, affine=True, track_running_stats=True)\n",
       "    (18): Flatten(start_dim=1, end_dim=-1)\n",
       "    (19): Linear(in_features=4096, out_features=1024, bias=True)\n",
       "    (20): ReLU()\n",
       "    (21): Linear(in_features=1024, out_features=512, bias=True)\n",
       "    (22): ReLU()\n",
       "    (23): Linear(in_features=512, out_features=10, bias=True)\n",
       "  )\n",
       ")"
      ]
     },
     "execution_count": 12,
     "metadata": {},
     "output_type": "execute_result"
    }
   ],
   "source": [
    "model=CnnModel()\n",
    "model.to(device)"
   ]
  },
  {
   "cell_type": "code",
   "execution_count": 13,
   "id": "f5b47412",
   "metadata": {
    "execution": {
     "iopub.execute_input": "2022-03-30T16:00:01.467466Z",
     "iopub.status.busy": "2022-03-30T16:00:01.466924Z",
     "iopub.status.idle": "2022-03-30T16:02:14.151067Z",
     "shell.execute_reply": "2022-03-30T16:02:14.151731Z",
     "shell.execute_reply.started": "2022-03-30T15:55:04.030924Z"
    },
    "papermill": {
     "duration": 132.707435,
     "end_time": "2022-03-30T16:02:14.151980",
     "exception": false,
     "start_time": "2022-03-30T16:00:01.444545",
     "status": "completed"
    },
    "tags": []
   },
   "outputs": [
    {
     "name": "stderr",
     "output_type": "stream",
     "text": [
      "100%|██████████| 704/704 [00:17<00:00, 40.50it/s]\n"
     ]
    },
    {
     "name": "stdout",
     "output_type": "stream",
     "text": [
      "Epoch : 1\n",
      "Train Accuracy:55.76% Validation Accuracy:65.96%\n",
      "Train Loss:1.2274 Validation Loss:0.9524\n"
     ]
    },
    {
     "name": "stderr",
     "output_type": "stream",
     "text": [
      "100%|██████████| 704/704 [00:11<00:00, 59.78it/s]\n"
     ]
    },
    {
     "name": "stdout",
     "output_type": "stream",
     "text": [
      "Epoch : 2\n",
      "Train Accuracy:72.85% Validation Accuracy:72.35%\n",
      "Train Loss:0.7788 Validation Loss:0.8265\n"
     ]
    },
    {
     "name": "stderr",
     "output_type": "stream",
     "text": [
      "100%|██████████| 704/704 [00:11<00:00, 60.11it/s]\n"
     ]
    },
    {
     "name": "stdout",
     "output_type": "stream",
     "text": [
      "Epoch : 3\n",
      "Train Accuracy:78.07% Validation Accuracy:75.65%\n",
      "Train Loss:0.6306 Validation Loss:0.7239\n"
     ]
    },
    {
     "name": "stderr",
     "output_type": "stream",
     "text": [
      "100%|██████████| 704/704 [00:11<00:00, 59.90it/s]\n"
     ]
    },
    {
     "name": "stdout",
     "output_type": "stream",
     "text": [
      "Epoch : 4\n",
      "Train Accuracy:81.96% Validation Accuracy:76.09%\n",
      "Train Loss:0.5221 Validation Loss:0.7221\n"
     ]
    },
    {
     "name": "stderr",
     "output_type": "stream",
     "text": [
      "100%|██████████| 704/704 [00:11<00:00, 61.32it/s]\n"
     ]
    },
    {
     "name": "stdout",
     "output_type": "stream",
     "text": [
      "Epoch : 5\n",
      "Train Accuracy:84.50% Validation Accuracy:79.96%\n",
      "Train Loss:0.4482 Validation Loss:0.5948\n"
     ]
    },
    {
     "name": "stderr",
     "output_type": "stream",
     "text": [
      "100%|██████████| 704/704 [00:11<00:00, 60.21it/s]\n"
     ]
    },
    {
     "name": "stdout",
     "output_type": "stream",
     "text": [
      "Epoch : 6\n",
      "Train Accuracy:86.55% Validation Accuracy:77.31%\n",
      "Train Loss:0.3905 Validation Loss:0.6738\n"
     ]
    },
    {
     "name": "stderr",
     "output_type": "stream",
     "text": [
      "100%|██████████| 704/704 [00:11<00:00, 58.90it/s]\n"
     ]
    },
    {
     "name": "stdout",
     "output_type": "stream",
     "text": [
      "Epoch : 7\n",
      "Train Accuracy:88.23% Validation Accuracy:79.69%\n",
      "Train Loss:0.3412 Validation Loss:0.6473\n"
     ]
    },
    {
     "name": "stderr",
     "output_type": "stream",
     "text": [
      "100%|██████████| 704/704 [00:11<00:00, 61.64it/s]\n"
     ]
    },
    {
     "name": "stdout",
     "output_type": "stream",
     "text": [
      "Epoch : 8\n",
      "Train Accuracy:89.48% Validation Accuracy:79.21%\n",
      "Train Loss:0.3064 Validation Loss:0.6457\n"
     ]
    },
    {
     "name": "stderr",
     "output_type": "stream",
     "text": [
      "100%|██████████| 704/704 [00:11<00:00, 59.40it/s]\n"
     ]
    },
    {
     "name": "stdout",
     "output_type": "stream",
     "text": [
      "Epoch : 9\n",
      "Train Accuracy:90.83% Validation Accuracy:79.61%\n",
      "Train Loss:0.2648 Validation Loss:0.6494\n"
     ]
    },
    {
     "name": "stderr",
     "output_type": "stream",
     "text": [
      "100%|██████████| 704/704 [00:11<00:00, 61.02it/s]\n"
     ]
    },
    {
     "name": "stdout",
     "output_type": "stream",
     "text": [
      "Epoch : 10\n",
      "Train Accuracy:91.71% Validation Accuracy:81.29%\n",
      "Train Loss:0.2401 Validation Loss:0.5988\n",
      "time elapsed in seconds 132.68114168300008\n"
     ]
    }
   ],
   "source": [
    "import timeit\n",
    "start_time = timeit.default_timer()\n",
    "history = fit(model, train_dl, val_dl)\n",
    "elapsed = timeit.default_timer() - start_time\n",
    "print(\"time elapsed in seconds\" ,elapsed)"
   ]
  },
  {
   "cell_type": "code",
   "execution_count": 14,
   "id": "447bfe38",
   "metadata": {
    "execution": {
     "iopub.execute_input": "2022-03-30T16:02:14.857489Z",
     "iopub.status.busy": "2022-03-30T16:02:14.856588Z",
     "iopub.status.idle": "2022-03-30T16:02:15.220663Z",
     "shell.execute_reply": "2022-03-30T16:02:15.221202Z",
     "shell.execute_reply.started": "2022-03-30T15:57:10.035535Z"
    },
    "papermill": {
     "duration": 0.723952,
     "end_time": "2022-03-30T16:02:15.221374",
     "exception": false,
     "start_time": "2022-03-30T16:02:14.497422",
     "status": "completed"
    },
    "tags": []
   },
   "outputs": [
    {
     "data": {
      "image/png": "[encoded data removed]",
      "text/plain": [
       "<Figure size 432x288 with 1 Axes>"
      ]
     },
     "metadata": {
      "needs_background": "light"
     },
     "output_type": "display_data"
    }
   ],
   "source": [
    "def plot_accuracies(history):\n",
    "    Validation_accuracies = [x['Accuracy'] for x in history]\n",
    "    Training_Accuracies = [x['train_accuracy'] for x in history]\n",
    "    plt.plot(Training_Accuracies, '-rx')\n",
    "    plt.plot(Validation_accuracies, '-bx')\n",
    "    plt.xlabel('epoch')\n",
    "    plt.ylabel('accuracy')\n",
    "    plt.legend(['Training', 'Validation'])\n",
    "    plt.title('Accuracy vs. No. of epochs');\n",
    "plot_accuracies(history)"
   ]
  },
  {
   "cell_type": "code",
   "execution_count": 15,
   "id": "ee16cab8",
   "metadata": {
    "execution": {
     "iopub.execute_input": "2022-03-30T16:02:16.039212Z",
     "iopub.status.busy": "2022-03-30T16:02:16.038380Z",
     "iopub.status.idle": "2022-03-30T16:02:17.650970Z",
     "shell.execute_reply": "2022-03-30T16:02:17.651700Z",
     "shell.execute_reply.started": "2022-03-30T15:57:10.281205Z"
    },
    "papermill": {
     "duration": 1.965508,
     "end_time": "2022-03-30T16:02:17.651865",
     "exception": false,
     "start_time": "2022-03-30T16:02:15.686357",
     "status": "completed"
    },
    "tags": []
   },
   "outputs": [
    {
     "name": "stdout",
     "output_type": "stream",
     "text": [
      "Test Accuracy:82.60%\n"
     ]
    }
   ],
   "source": [
    "#test_dataset = ImageFolder(data_dir+'/test', transform=ToTensor())\n",
    "test_loader = DataLoader(test_dataset, batch_size)\n",
    "result = evaluate(model, test_loader)\n",
    "print(f'Test Accuracy:{result[\"Accuracy\"]*100:.2f}%')"
   ]
  },
  {
   "cell_type": "code",
   "execution_count": null,
   "id": "661877b9",
   "metadata": {
    "papermill": {
     "duration": 0.341401,
     "end_time": "2022-03-30T16:02:18.336567",
     "exception": false,
     "start_time": "2022-03-30T16:02:17.995166",
     "status": "completed"
    },
    "tags": []
   },
   "outputs": [],
   "source": []
  }
 ],
 "metadata": {
  "kernelspec": {
   "display_name": "Python 3",
   "language": "python",
   "name": "python3"
  },
  "language_info": {
   "codemirror_mode": {
    "name": "ipython",
    "version": 3
   },
   "file_extension": ".py",
   "mimetype": "text/x-python",
   "name": "python",
   "nbconvert_exporter": "python",
   "pygments_lexer": "ipython3",
   "version": "3.7.12"
  },
  "papermill": {
   "default_parameters": {},
   "duration": 157.845533,
   "end_time": "2022-03-30T16:02:20.092872",
   "environment_variables": {},
   "exception": null,
   "input_path": "__notebook__.ipynb",
   "output_path": "__notebook__.ipynb",
   "parameters": {},
   "start_time": "2022-03-30T15:59:42.247339",
   "version": "2.3.3"
  },
  "widgets": {
   "application/vnd.jupyter.widget-state+json": {
    "state": {
     "2219b896f18149e1968f52a622021d9c": {
      "model_module": "@jupyter-widgets/controls",
      "model_module_version": "1.5.0",
      "model_name": "HTMLModel",
      "state": {
       "_dom_classes": [],
       "_model_module": "@jupyter-widgets/controls",
       "_model_module_version": "1.5.0",
       "_model_name": "HTMLModel",
       "_view_count": null,
       "_view_module": "@jupyter-widgets/controls",
       "_view_module_version": "1.5.0",
       "_view_name": "HTMLView",
       "description": "",
       "description_tooltip": null,
       "layout": "IPY_MODEL_b37d505747144cfd8700802c0b33245f",
       "placeholder": "​",
       "style": "IPY_MODEL_2fb1d1718b3a472e9c757f1e67561b0f",
       "value": ""
      }
     },
     "28f40655bfdf4e7d8bcc819782be8e71": {
      "model_module": "@jupyter-widgets/base",
      "model_module_version": "1.2.0",
      "model_name": "LayoutModel",
      "state": {
       "_model_module": "@jupyter-widgets/base",
       "_model_module_version": "1.2.0",
       "_model_name": "LayoutModel",
       "_view_count": null,
       "_view_module": "@jupyter-widgets/base",
       "_view_module_version": "1.2.0",
       "_view_name": "LayoutView",
       "align_content": null,
       "align_items": null,
       "align_self": null,
       "border": null,
       "bottom": null,
       "display": null,
       "flex": null,
       "flex_flow": null,
       "grid_area": null,
       "grid_auto_columns": null,
       "grid_auto_flow": null,
       "grid_auto_rows": null,
       "grid_column": null,
       "grid_gap": null,
       "grid_row": null,
       "grid_template_areas": null,
       "grid_template_columns": null,
       "grid_template_rows": null,
       "height": null,
       "justify_content": null,
       "justify_items": null,
       "left": null,
       "margin": null,
       "max_height": null,
       "max_width": null,
       "min_height": null,
       "min_width": null,
       "object_fit": null,
       "object_position": null,
       "order": null,
       "overflow": null,
       "overflow_x": null,
       "overflow_y": null,
       "padding": null,
       "right": null,
       "top": null,
       "visibility": null,
       "width": null
      }
     },
     "2fb1d1718b3a472e9c757f1e67561b0f": {
      "model_module": "@jupyter-widgets/controls",
      "model_module_version": "1.5.0",
      "model_name": "DescriptionStyleModel",
      "state": {
       "_model_module": "@jupyter-widgets/controls",
       "_model_module_version": "1.5.0",
       "_model_name": "DescriptionStyleModel",
       "_view_count": null,
       "_view_module": "@jupyter-widgets/base",
       "_view_module_version": "1.2.0",
       "_view_name": "StyleView",
       "description_width": ""
      }
     },
     "436a62bb04d041ffa08bb5a74e9d241e": {
      "model_module": "@jupyter-widgets/controls",
      "model_module_version": "1.5.0",
      "model_name": "HTMLModel",
      "state": {
       "_dom_classes": [],
       "_model_module": "@jupyter-widgets/controls",
       "_model_module_version": "1.5.0",
       "_model_name": "HTMLModel",
       "_view_count": null,
       "_view_module": "@jupyter-widgets/controls",
       "_view_module_version": "1.5.0",
       "_view_name": "HTMLView",
       "description": "",
       "description_tooltip": null,
       "layout": "IPY_MODEL_eb920298b25443a08dc94864e37af8e2",
       "placeholder": "​",
       "style": "IPY_MODEL_79dc9f52d2c247be881b111eba7f0398",
       "value": " 170499072/? [00:02&lt;00:00, 66076411.79it/s]"
      }
     },
     "5bede1ace95e43e793210b954698d4fb": {
      "model_module": "@jupyter-widgets/controls",
      "model_module_version": "1.5.0",
      "model_name": "HBoxModel",
      "state": {
       "_dom_classes": [],
       "_model_module": "@jupyter-widgets/controls",
       "_model_module_version": "1.5.0",
       "_model_name": "HBoxModel",
       "_view_count": null,
       "_view_module": "@jupyter-widgets/controls",
       "_view_module_version": "1.5.0",
       "_view_name": "HBoxView",
       "box_style": "",
       "children": [
        "IPY_MODEL_2219b896f18149e1968f52a622021d9c",
        "IPY_MODEL_6e64679e64fe4ca586faa80a7baf2385",
        "IPY_MODEL_436a62bb04d041ffa08bb5a74e9d241e"
       ],
       "layout": "IPY_MODEL_cac1b3d580e34752b2bf4186cbf60231"
      }
     },
     "6e64679e64fe4ca586faa80a7baf2385": {
      "model_module": "@jupyter-widgets/controls",
      "model_module_version": "1.5.0",
      "model_name": "FloatProgressModel",
      "state": {
       "_dom_classes": [],
       "_model_module": "@jupyter-widgets/controls",
       "_model_module_version": "1.5.0",
       "_model_name": "FloatProgressModel",
       "_view_count": null,
       "_view_module": "@jupyter-widgets/controls",
       "_view_module_version": "1.5.0",
       "_view_name": "ProgressView",
       "bar_style": "success",
       "description": "",
       "description_tooltip": null,
       "layout": "IPY_MODEL_28f40655bfdf4e7d8bcc819782be8e71",
       "max": 170498071.0,
       "min": 0.0,
       "orientation": "horizontal",
       "style": "IPY_MODEL_ec69e28c462f41b285a87abd1a9e35f3",
       "value": 170498071.0
      }
     },
     "79dc9f52d2c247be881b111eba7f0398": {
      "model_module": "@jupyter-widgets/controls",
      "model_module_version": "1.5.0",
      "model_name": "DescriptionStyleModel",
      "state": {
       "_model_module": "@jupyter-widgets/controls",
       "_model_module_version": "1.5.0",
       "_model_name": "DescriptionStyleModel",
       "_view_count": null,
       "_view_module": "@jupyter-widgets/base",
       "_view_module_version": "1.2.0",
       "_view_name": "StyleView",
       "description_width": ""
      }
     },
     "b37d505747144cfd8700802c0b33245f": {
      "model_module": "@jupyter-widgets/base",
      "model_module_version": "1.2.0",
      "model_name": "LayoutModel",
      "state": {
       "_model_module": "@jupyter-widgets/base",
       "_model_module_version": "1.2.0",
       "_model_name": "LayoutModel",
       "_view_count": null,
       "_view_module": "@jupyter-widgets/base",
       "_view_module_version": "1.2.0",
       "_view_name": "LayoutView",
       "align_content": null,
       "align_items": null,
       "align_self": null,
       "border": null,
       "bottom": null,
       "display": null,
       "flex": null,
       "flex_flow": null,
       "grid_area": null,
       "grid_auto_columns": null,
       "grid_auto_flow": null,
       "grid_auto_rows": null,
       "grid_column": null,
       "grid_gap": null,
       "grid_row": null,
       "grid_template_areas": null,
       "grid_template_columns": null,
       "grid_template_rows": null,
       "height": null,
       "justify_content": null,
       "justify_items": null,
       "left": null,
       "margin": null,
       "max_height": null,
       "max_width": null,
       "min_height": null,
       "min_width": null,
       "object_fit": null,
       "object_position": null,
       "order": null,
       "overflow": null,
       "overflow_x": null,
       "overflow_y": null,
       "padding": null,
       "right": null,
       "top": null,
       "visibility": null,
       "width": null
      }
     },
     "cac1b3d580e34752b2bf4186cbf60231": {
      "model_module": "@jupyter-widgets/base",
      "model_module_version": "1.2.0",
      "model_name": "LayoutModel",
      "state": {
       "_model_module": "@jupyter-widgets/base",
       "_model_module_version": "1.2.0",
       "_model_name": "LayoutModel",
       "_view_count": null,
       "_view_module": "@jupyter-widgets/base",
       "_view_module_version": "1.2.0",
       "_view_name": "LayoutView",
       "align_content": null,
       "align_items": null,
       "align_self": null,
       "border": null,
       "bottom": null,
       "display": null,
       "flex": null,
       "flex_flow": null,
       "grid_area": null,
       "grid_auto_columns": null,
       "grid_auto_flow": null,
       "grid_auto_rows": null,
       "grid_column": null,
       "grid_gap": null,
       "grid_row": null,
       "grid_template_areas": null,
       "grid_template_columns": null,
       "grid_template_rows": null,
       "height": null,
       "justify_content": null,
       "justify_items": null,
       "left": null,
       "margin": null,
       "max_height": null,
       "max_width": null,
       "min_height": null,
       "min_width": null,
       "object_fit": null,
       "object_position": null,
       "order": null,
       "overflow": null,
       "overflow_x": null,
       "overflow_y": null,
       "padding": null,
       "right": null,
       "top": null,
       "visibility": null,
       "width": null
      }
     },
     "eb920298b25443a08dc94864e37af8e2": {
      "model_module": "@jupyter-widgets/base",
      "model_module_version": "1.2.0",
      "model_name": "LayoutModel",
      "state": {
       "_model_module": "@jupyter-widgets/base",
       "_model_module_version": "1.2.0",
       "_model_name": "LayoutModel",
       "_view_count": null,
       "_view_module": "@jupyter-widgets/base",
       "_view_module_version": "1.2.0",
       "_view_name": "LayoutView",
       "align_content": null,
       "align_items": null,
       "align_self": null,
       "border": null,
       "bottom": null,
       "display": null,
       "flex": null,
       "flex_flow": null,
       "grid_area": null,
       "grid_auto_columns": null,
       "grid_auto_flow": null,
       "grid_auto_rows": null,
       "grid_column": null,
       "grid_gap": null,
       "grid_row": null,
       "grid_template_areas": null,
       "grid_template_columns": null,
       "grid_template_rows": null,
       "height": null,
       "justify_content": null,
       "justify_items": null,
       "left": null,
       "margin": null,
       "max_height": null,
       "max_width": null,
       "min_height": null,
       "min_width": null,
       "object_fit": null,
       "object_position": null,
       "order": null,
       "overflow": null,
       "overflow_x": null,
       "overflow_y": null,
       "padding": null,
       "right": null,
       "top": null,
       "visibility": null,
       "width": null
      }
     },
     "ec69e28c462f41b285a87abd1a9e35f3": {
      "model_module": "@jupyter-widgets/controls",
      "model_module_version": "1.5.0",
      "model_name": "ProgressStyleModel",
      "state": {
       "_model_module": "@jupyter-widgets/controls",
       "_model_module_version": "1.5.0",
       "_model_name": "ProgressStyleModel",
       "_view_count": null,
       "_view_module": "@jupyter-widgets/base",
       "_view_module_version": "1.2.0",
       "_view_name": "StyleView",
       "bar_color": null,
       "description_width": ""
      }
     }
    },
    "version_major": 2,
    "version_minor": 0
   }
  }
 },
 "nbformat": 4,
 "nbformat_minor": 5
}
